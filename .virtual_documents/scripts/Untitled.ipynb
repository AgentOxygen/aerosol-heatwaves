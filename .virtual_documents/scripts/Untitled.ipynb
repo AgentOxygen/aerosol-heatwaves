import json
import urllib.request

urls = {}
with open("download_urls.json") as f:
    urls = json.load(f)


MERRA2_URLS = urls["MERRA2_TMIN_TMAX_TAVG"]


API_KEY = "sI2lsFBdcKxbLna2BuxWYOd0lgvIMj049sfBO3CC"
full_url = url.split("{API_KEY}")[0] + API_KEY


import urllib.request
urllib.request.urlretrieve(full_url, "test.nc")


from distributed import Client
import numpy as np
import dask
import xarray


client = Client('localhost:8786')
#client.restart()
client






