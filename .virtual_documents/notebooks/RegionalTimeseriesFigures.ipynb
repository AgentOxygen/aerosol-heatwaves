import xarray
from distributed import Client
import numpy as np
import cftime
import matplotlib.pyplot as plt
import cartopy.crs as ccrs
import regionmask


client = Client('localhost:8786')
client


HW_DIR = "/projects/dgs/persad_research/SIMULATION_DATA/ZARR/LENS1/HEAT_OUTPUTS/"

land_mask_path = "/projects/dgs/persad_research/SIMULATION_DATA/DATA/LENS1/CESM1/all/001/day/LANDFRAC/b.e11.B1850C5CN.f09_g16.005.cam.h0.LANDFRAC.200001-209912.nc"
land_mask = xarray.open_dataset(land_mask_path)["LANDFRAC"].mean(dim="time")

hw_mn_all_path = f"{HW_DIR}CESM1_LE_all_TREFHTMN_HW_METRICS.zarr"
hw_mn_xaer_path = f"{HW_DIR}CESM1_LE_xaer_TREFHTMN_HW_METRICS.zarr"
hw_mn_xghg_path = f"{HW_DIR}CESM1_LE_xghg_TREFHTMN_HW_METRICS.zarr"
OUTPUT_DIR = "/projects/dgs/persad_research/SIMULATION_DATA/ZARR/MERRA2/HEAT_OUTPUTS/"
hw_mn_merra_path = f"{OUTPUT_DIR}MERRA2_T2MMIN_HW_METRICS.zarr"


hw_mn_all = xarray.open_zarr(hw_mn_all_path)
hw_mn_xaer = xarray.open_zarr(hw_mn_xaer_path)
hw_mn_xghg = xarray.open_zarr(hw_mn_xghg_path)
hw_mn_merra = xarray.open_zarr(hw_mn_merra_path)

ar6_mask = regionmask.defined_regions.ar6.land.mask(hw_mn_all.lon, hw_mn_all.lat)

mask_na = ar6_mask.where(land_mask > 0).where(ar6_mask <= 6)
mask_csa = ar6_mask.where(land_mask > 0).where(ar6_mask <= 15).where(ar6_mask >= 7)
mask_af = ar6_mask.where(land_mask > 0).where(ar6_mask <= 27).where(ar6_mask >= 20)
mask_euro = ar6_mask.where(land_mask > 0).where(ar6_mask <= 19).where(ar6_mask >= 16)
mask_sa = ar6_mask.where(land_mask > 0).where(ar6_mask <= 37).where(ar6_mask >= 32)
mask_oc = ar6_mask.where(land_mask > 0).where(ar6_mask == 38)
mask_au = ar6_mask.where(land_mask > 0).where(ar6_mask <= 42).where(ar6_mask >= 39)

hw_mn_na_all_ts = hw_mn_all.sel(percentile=0.9).where(mask_na).compute()
hw_mn_na_xaer_ts = hw_mn_xaer.sel(percentile=0.9).where(mask_na).compute()
hw_mn_na_xghg_ts = hw_mn_xghg.sel(percentile=0.9).where(mask_na).compute()
hw_mn_na_merra_ts = hw_mn_merra.sel(percentile=0.9).where(mask_na).compute()

hw_mn_csa_all_ts = hw_mn_all.sel(percentile=0.9).where(mask_csa).compute()
hw_mn_csa_xaer_ts = hw_mn_xaer.sel(percentile=0.9).where(mask_csa).compute()
hw_mn_csa_xghg_ts = hw_mn_xghg.sel(percentile=0.9).where(mask_csa).compute()
hw_mn_csa_merra_ts = hw_mn_merra.sel(percentile=0.9).where(mask_csa).compute()

hw_mn_af_all_ts = hw_mn_all.sel(percentile=0.9).where(mask_af).compute()
hw_mn_af_xaer_ts = hw_mn_xaer.sel(percentile=0.9).where(mask_af).compute()
hw_mn_af_xghg_ts = hw_mn_xghg.sel(percentile=0.9).where(mask_af).compute()
hw_mn_af_merra_ts = hw_mn_merra.sel(percentile=0.9).where(mask_af).compute()

hw_mn_euro_all_ts = hw_mn_all.sel(percentile=0.9).where(mask_euro).compute()
hw_mn_euro_xaer_ts = hw_mn_xaer.sel(percentile=0.9).where(mask_euro).compute()
hw_mn_euro_xghg_ts = hw_mn_xghg.sel(percentile=0.9).where(mask_euro).compute()
hw_mn_euro_merra_ts = hw_mn_merra.sel(percentile=0.9).where(mask_euro).compute()

hw_mn_sa_all_ts = hw_mn_all.sel(percentile=0.9).where(mask_sa).compute()
hw_mn_sa_xaer_ts = hw_mn_xaer.sel(percentile=0.9).where(mask_sa).compute()
hw_mn_sa_xghg_ts = hw_mn_xghg.sel(percentile=0.9).where(mask_sa).compute()
hw_mn_sa_merra_ts = hw_mn_merra.sel(percentile=0.9).where(mask_sa).compute()

hw_mn_oc_all_ts = hw_mn_all.sel(percentile=0.9).where(mask_oc).compute()
hw_mn_oc_xaer_ts = hw_mn_xaer.sel(percentile=0.9).where(mask_oc).compute()
hw_mn_oc_xghg_ts = hw_mn_xghg.sel(percentile=0.9).where(mask_oc).compute()
hw_mn_oc_merra_ts = hw_mn_merra.sel(percentile=0.9).where(mask_oc).compute()

hw_mn_au_all_ts = hw_mn_all.sel(percentile=0.9).where(mask_au).compute()
hw_mn_au_xaer_ts = hw_mn_xaer.sel(percentile=0.9).where(mask_au).compute()
hw_mn_au_xghg_ts = hw_mn_xghg.sel(percentile=0.9).where(mask_au).compute()
hw_mn_au_merra_ts = hw_mn_merra.sel(percentile=0.9).where(mask_au).compute()





xarray.DataArray(data=np.random.random(10000).astype(float)).to_netcdf("test1.nc")
xarray.DataArray(data=(np.random.random(10000)*100).astype(int)).to_netcdf("test2.nc")
