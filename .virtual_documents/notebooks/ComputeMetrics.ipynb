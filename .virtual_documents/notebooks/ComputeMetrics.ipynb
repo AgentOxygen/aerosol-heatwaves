import xarray
from distributed import Client
import sys
sys.path.insert(1, '../heatwave_analysis_package/src')
import hdp
import cftime
import numpy as np

client = Client('localhost:8786')
client






