{
 "cells": [
  {
   "cell_type": "code",
   "execution_count": 1,
   "id": "62219bdf-9a16-4cd1-a40e-0c254fab6dfa",
   "metadata": {},
   "outputs": [
    {
     "ename": "ModuleNotFoundError",
     "evalue": "No module named 'compute_thresholds'",
     "output_type": "error",
     "traceback": [
      "\u001b[0;31m---------------------------------------------------------------------------\u001b[0m",
      "\u001b[0;31mModuleNotFoundError\u001b[0m                       Traceback (most recent call last)",
      "Input \u001b[0;32mIn [1]\u001b[0m, in \u001b[0;36m<module>\u001b[0;34m\u001b[0m\n\u001b[1;32m      7\u001b[0m sys\u001b[38;5;241m.\u001b[39mpath\u001b[38;5;241m.\u001b[39mappend(\u001b[38;5;124m'\u001b[39m\u001b[38;5;124m/projects/dgs/persad_research/heat_research/aerosol-heatwaves/scripts/\u001b[39m\u001b[38;5;124m'\u001b[39m)\n\u001b[1;32m      8\u001b[0m \u001b[38;5;28;01mimport\u001b[39;00m \u001b[38;5;21;01mpaths\u001b[39;00m\n\u001b[0;32m----> 9\u001b[0m \u001b[38;5;28;01mimport\u001b[39;00m \u001b[38;5;21;01mcompute_thresholds\u001b[39;00m \u001b[38;5;28;01mas\u001b[39;00m \u001b[38;5;21;01mct\u001b[39;00m\n",
      "\u001b[0;31mModuleNotFoundError\u001b[0m: No module named 'compute_thresholds'"
     ]
    }
   ],
   "source": [
    "from os import listdir\n",
    "import xarray\n",
    "import cftime\n",
    "import numpy as np\n",
    "\n",
    "import sys\n",
    "sys.path.append('/projects/dgs/persad_research/heat_research/aerosol-heatwaves/scripts/')\n",
    "import paths\n",
    "import compute_thresholds as ct"
   ]
  },
  {
   "cell_type": "code",
   "execution_count": null,
   "id": "55009364-53c3-483e-8d0f-da679015ce82",
   "metadata": {},
   "outputs": [],
   "source": []
  },
  {
   "cell_type": "code",
   "execution_count": 3,
   "id": "2d4fd50f-077a-407e-9a47-b4067dd3c73d",
   "metadata": {},
   "outputs": [],
   "source": [
    "import sys\n",
    "sys.path.append('/projects/dgs/persad_research/heat_research/testing/')\n",
    "from analysis import calculate_heatwave_statistics"
   ]
  },
  {
   "cell_type": "code",
   "execution_count": 21,
   "id": "ada0c04d-d85f-4610-9cd4-0a5afbf73c0c",
   "metadata": {},
   "outputs": [],
   "source": [
    "import xarray\n",
    "\n",
    "ds = xarray.open_dataset(\"/projects/dgs/persad_research/heat_research/testing/old_threshold.nc\")\n",
    "ds[\"tnpct\"].values = xarray.open_dataset(\"/projects/dgs/persad_research/heat_research/testing/new_control.nc\")[\"threshold\"].values - 273.15\n",
    "ds[\"txpct\"].values = xarray.open_dataset(\"/projects/dgs/persad_research/heat_research/testing/new_control.nc\")[\"threshold\"].values - 273.15\n",
    "ds.to_netcdf(\"/projects/dgs/persad_research/heat_research/testing/modified_control.nc\")"
   ]
  },
  {
   "cell_type": "code",
   "execution_count": 22,
   "id": "0a66e5a9-a53b-43a5-8e72-9472120ee6f2",
   "metadata": {},
   "outputs": [
    {
     "name": "stdout",
     "output_type": "stream",
     "text": [
      "You didn't specify a land-sea mask. It's faster if you do,so this might take a while.\n"
     ]
    },
    {
     "data": {
      "text/plain": [
       "True"
      ]
     },
     "execution_count": 22,
     "metadata": {},
     "output_type": "execute_result"
    }
   ],
   "source": [
    "mn_path = \"/projects/dgs/persad_research/heat_research/old_data/TREFHTMN/ALL/concatenated/trefhtmin_all_0.nc\"\n",
    "mx_path = \"/projects/dgs/persad_research/heat_research/old_data/TREFHTMX/ALL/concatenated/trefhtmax_all_0.nc\"\n",
    "control_path = \"/projects/dgs/persad_research/heat_research/testing/modified_control.nc\"\n",
    "\n",
    "calculate_heatwave_statistics(\"old_algo_hw_metrics.nc\", mx_path, mn_path, control_path, \"3136\")"
   ]
  },
  {
   "cell_type": "code",
   "execution_count": null,
   "id": "732e5e38-2d8c-4c25-8db7-c709e897b91b",
   "metadata": {},
   "outputs": [],
   "source": [
    "#get_netcdfs = lambda path_to_directory : [path_to_directory + name for name in listdir(path_to_directory) if \".nc\" in name]\n",
    "\n",
    "path = \"/projects/dgs/persad_research/heat_research/data/TREFHTMN/ALL/concatenated/trefhtmin_all_17.nc\"\n",
    "all_trefhtmn = xarray.open_dataset(path)[\"TREFHTMN\"]\n",
    "control_trefhtmn = xarray.open_dataset(paths.CONTROL_TREFHTMN_NETCDF)[\"TREFHTMN\"]#.sel(time=slice(cftime.DatetimeNoLeap(1920, 1, 1, 0, 0, 0, 0, has_year_zero=True), cftime.DatetimeNoLeap(1950, 1, 1, 0, 0, 0, 0, has_year_zero=True)))"
   ]
  },
  {
   "cell_type": "code",
   "execution_count": null,
   "id": "2413d994-9bea-47ee-b9cc-cd24b7307872",
   "metadata": {},
   "outputs": [],
   "source": [
    "# control_threshold = ct.compute_threshold(control_trefhtmn)\n",
    "# control_threshold.to_netcdf(\"/projects/dgs/persad_research/heat_research/data/debug/control_threshold.nc\")"
   ]
  },
  {
   "cell_type": "code",
   "execution_count": 1,
   "id": "d0a62ee7-2aa4-443d-993d-37a22d7f5cb8",
   "metadata": {},
   "outputs": [
    {
     "data": {
      "text/plain": [
       "35"
      ]
     },
     "execution_count": 1,
     "metadata": {},
     "output_type": "execute_result"
    }
   ],
   "source": [
    "-5 % 40"
   ]
  },
  {
   "cell_type": "code",
   "execution_count": null,
   "id": "70d02f09-a10b-403e-a4f6-a8d79e4bf535",
   "metadata": {},
   "outputs": [],
   "source": [
    "control_threshold = ct.compute_threshold(all_trefhtmn.sel(time=slice(\"1920\", \"1950\")))"
   ]
  },
  {
   "cell_type": "code",
   "execution_count": null,
   "id": "7c85a3f5-cba8-4883-9830-112375c574c2",
   "metadata": {},
   "outputs": [],
   "source": [
    "str(control_threshold.attrs)"
   ]
  },
  {
   "cell_type": "code",
   "execution_count": null,
   "id": "de21b3d5-536d-493f-86b5-fea1012d356f",
   "metadata": {},
   "outputs": [],
   "source": [
    "ds = control_threshold[\"threshold\"]\n",
    "south_hemisphere = np.ones((int(ds.shape[1]/2), ds.shape[2]))\n",
    "south_hemisphere.resize((ds.shape[1], ds.shape[2]))\n",
    "\n",
    "north_hemisphere = 1 - south_hemisphere\n",
    "\n",
    "(ds.mean(dim=\"day\")*north_hemisphere + ds.mean(dim=\"day\")*south_hemisphere).plot()"
   ]
  },
  {
   "cell_type": "code",
   "execution_count": null,
   "id": "fb6eb63d-aa71-40f7-b875-842bd8a1402d",
   "metadata": {},
   "outputs": [],
   "source": [
    "control_threshold"
   ]
  },
  {
   "cell_type": "code",
   "execution_count": null,
   "id": "317f3501-70ff-4d2f-a8c7-d2d764ec3b33",
   "metadata": {},
   "outputs": [],
   "source": [
    "SHS = (300>=,<=9)\n",
    "SHW = (120>=,<=270)"
   ]
  },
  {
   "cell_type": "code",
   "execution_count": null,
   "id": "be74fa5a-00fa-4329-9794-d26d71906a2f",
   "metadata": {},
   "outputs": [],
   "source": [
    "def indicate_hot_days(temp_ds, threshold):\n",
    "    hot_days = np.zeros(temp_ds.values.shape, dtype=int)\n",
    "    \n",
    "    # May–September in the Northern Hemisphere and November–March in the Southern Hemisphere\n",
    "    south_hemisphere = np.ones((int(temp_ds.shape[1]/2), temp_ds.shape[2]))\n",
    "    south_hemisphere.resize((temp_ds.shape[1], temp_ds.shape[2]))\n",
    "    north_hemisphere = 1 - south_hemisphere\n",
    "    \n",
    "    for index in range(temp_ds.time.values.size):\n",
    "        day_number = temp_ds.time.values[index].dayofyr\n",
    "        if 273 >= day_number >= 121:\n",
    "            # May–September in the Northern Hemisphere\n",
    "            hot_days[index] = (temp_ds.values[index] > threshold.values[day_number-1])*north_hemisphere\n",
    "        elif day_number >= 305 or day_number <= 90:\n",
    "            # November–March in the Southern Hemisphere\n",
    "            hot_days[index] = (temp_ds.values[index] > threshold.values[day_number-1])*south_hemisphere\n",
    "    \n",
    "    return hot_days\n",
    "    \n",
    "def index_heatwaves(timeseries, max_break=1, min_duration=3):\n",
    "    \"\"\"Identifies the heatwaves in the timeseries\"\"\"\n",
    "    timeseries = np.pad(timeseries, 1)\n",
    "    \n",
    "    diff_indices = np.where(np.diff(timeseries) != 0)[0] + 1\n",
    "\n",
    "    in_heatwave = False\n",
    "    current_hw_index = 1\n",
    "\n",
    "    hw_indices = np.zeros(timeseries.shape, dtype=np.short)\n",
    "\n",
    "    for i in range(diff_indices.shape[0]-1):\n",
    "        index = diff_indices[i]\n",
    "        next_index = diff_indices[i+1]\n",
    "\n",
    "        if timeseries[index] == 1 and in_heatwave:\n",
    "            hw_indices[index:next_index] = current_hw_index\n",
    "        elif timeseries[index] == 0 and in_heatwave and next_index-index <= max_break:\n",
    "            hw_indices[index:next_index] = current_hw_index\n",
    "        elif timeseries[index] == 1 and not in_heatwave and next_index-index >= min_duration:\n",
    "            in_heatwave = True\n",
    "            hw_indices[index:next_index] = current_hw_index\n",
    "        elif in_heatwave:\n",
    "            current_hw_index += 1\n",
    "            in_heatwave = False\n",
    "    return hw_indices[1:-1]\n",
    "\n",
    "hot_days = indicate_hot_days(all_trefhtmn, control_threshold[\"threshold\"])\n",
    "indexed_heatwaves = np.zeros(hot_days.shape, dtype=np.short)\n",
    "\n",
    "for i in range(hot_days.shape[1]):\n",
    "    for j in range(hot_days.shape[2]):\n",
    "        indexed_heatwaves[:, i, j] = index_heatwaves(hot_days[:, i, j])"
   ]
  },
  {
   "cell_type": "code",
   "execution_count": null,
   "id": "cc767319-a55a-4236-aeb6-66385ecc81f7",
   "metadata": {},
   "outputs": [],
   "source": [
    "start_index = 0\n",
    "for index in range(all_trefhtmn.time.shape[0]):\n",
    "    ts = all_trefhtmn.time.values[index]\n",
    "    if ts.dayofyr == 1 and not start_set:\n",
    "        start_index = index\n",
    "        break\n",
    "\n",
    "# timeseries = all_trefhtmn.time.values[start_index:end_index]\n",
    "years = timeseries[-1].year - timeseries[0].year + 1\n",
    "\n",
    "south_hemisphere = np.ones((int(all_trefhtmn.shape[1]/2), all_trefhtmn.shape[2]), dtype=int)\n",
    "south_hemisphere.resize((all_trefhtmn.shape[1], all_trefhtmn.shape[2]))\n",
    "north_hemisphere = 1 - south_hemisphere\n",
    "\n",
    "hwf = np.zeros((years, indexed_heatwaves.shape[1], indexed_heatwaves.shape[2]), dtype=int)\n",
    "for index in range(start_index, years):\n",
    "    north_lower, north_upper = (365*index + 121, 365*index + 273 + 1)\n",
    "    south_lower, south_upper = (365*index + 305, 365*(index+1) + 90 + 1)\n",
    "    \n",
    "    hwf[index] = north_hemisphere*np.sum(indexed_heatwaves[north_lower:north_upper] > 0, axis=0)\n",
    "    if south_upper < indexed_heatwaves.shape[0]:\n",
    "        hwf[index] += south_hemisphere*np.sum(indexed_heatwaves[south_lower:south_upper] > 0, axis=0)\n",
    "    \n",
    "new_hwf = all_hwf_ds.copy()\n",
    "new_hwf.values = hwf"
   ]
  },
  {
   "cell_type": "code",
   "execution_count": null,
   "id": "a320e90a-30dd-4e1d-8e31-e5c2406f0bb9",
   "metadata": {},
   "outputs": [],
   "source": []
  },
  {
   "cell_type": "code",
   "execution_count": null,
   "id": "51872dd1-9767-4788-b1a5-9fb466632d75",
   "metadata": {},
   "outputs": [],
   "source": []
  },
  {
   "cell_type": "code",
   "execution_count": null,
   "id": "ca9287f0-250a-47a7-9cbb-6b185ebba04e",
   "metadata": {},
   "outputs": [],
   "source": [
    "ds = xarray.Dataset(\n",
    "    data_vars=dict(\n",
    "        HWF=([\"year\", \"lat\", \"lon\"], hwf),\n",
    "    ),\n",
    "    coords=dict(\n",
    "        lon=([\"lon\"], all_trefhtmn.lon.values),\n",
    "        lat=([\"lat\"], all_trefhtmn.lat.values),\n",
    "        year=np.arange(all_trefhtmn.time.values[0].year, all_trefhtmn.time.values[-1].year+1),\n",
    "    ),\n",
    "    attrs=dict(description=f\"90th percentile heatwave metrics.\"),\n",
    "    )"
   ]
  },
  {
   "cell_type": "code",
   "execution_count": null,
   "id": "f3ead71a-8b44-4482-813b-e84d02d31702",
   "metadata": {},
   "outputs": [],
   "source": [
    "control_threshold.attrs"
   ]
  },
  {
   "cell_type": "code",
   "execution_count": null,
   "id": "2d0791d7-494e-4b9d-babc-63e3c6aa54ea",
   "metadata": {},
   "outputs": [],
   "source": [
    "np.arange(all_trefhtmn.time.values[0].year, all_trefhtmn.time.values[-1].year+1)"
   ]
  },
  {
   "cell_type": "code",
   "execution_count": null,
   "id": "4a4cbcbc-3f94-4401-a3a0-a83cf9061e00",
   "metadata": {},
   "outputs": [],
   "source": [
    "name = \"ALL-12-tn90pct_heatwaves_CESM2_rNone_3136_yearly_summer.nc\"\n",
    "all_hwf_ds = xarray.open_dataset(f\"/projects/dgs/persad_research/heat_research/data/heat_output/ALL/tmin/{name}\")[\"HWF_tn90pct\"]\n",
    "\n",
    "all_hwf_ds"
   ]
  },
  {
   "cell_type": "code",
   "execution_count": null,
   "id": "f7904150-5989-400f-8b31-a056a5738a14",
   "metadata": {},
   "outputs": [],
   "source": [
    "con_comp = xarray.open_dataset(\"../../data/thresholds/CONTROL/control_threshold.nc\")[\"tnpct\"]"
   ]
  },
  {
   "cell_type": "code",
   "execution_count": null,
   "id": "f20e002a-ebd4-4308-97a6-21c26992a2a9",
   "metadata": {},
   "outputs": [],
   "source": [
    "((control_threshold.mean(dim=\"lat\").mean(dim=\"lon\") - 273.15) - con_comp).plot()"
   ]
  },
  {
   "cell_type": "code",
   "execution_count": null,
   "id": "ab825748-c483-4bed-b8b9-4c2cc7b49ccb",
   "metadata": {},
   "outputs": [],
   "source": []
  },
  {
   "cell_type": "code",
   "execution_count": null,
   "id": "72559bb3-fbe9-47f6-ad40-29ea2a9c3bf9",
   "metadata": {},
   "outputs": [],
   "source": []
  },
  {
   "cell_type": "code",
   "execution_count": null,
   "id": "68c9b5bd-ad10-4295-a9e7-5c98e943eed6",
   "metadata": {},
   "outputs": [],
   "source": [
    "name = \"ALL-12-tn90pct_heatwaves_CESM2_rNone_3136_yearly_summer.nc\"\n",
    "all_hwf_ds = xarray.open_dataset(f\"/projects/dgs/persad_research/heat_research/old_data/heat_output/ALL/tmin/{name}\")[\"HWF_tn90pct\"]\n",
    "\n",
    "f, ax = plt.subplots(1, 1, figsize=(18, 15), facecolor='w')\n",
    "\n",
    "new = new_hwf.mean(dim=\"lat\").mean(dim=\"lon\").values[:-1]\n",
    "old = all_hwf_ds.mean(dim=\"lat\").mean(dim=\"lon\").values.astype(\"timedelta64[D]\").astype(int)[:-1]\n",
    "\n",
    "ax.plot(np.arange(new.size), new, color=\"Red\", label=\"New HWF\")\n",
    "ax.plot(np.arange(old.size), old, color=\"Blue\", label=\"Old HWF\")\n",
    "ax.legend()"
   ]
  },
  {
   "cell_type": "code",
   "execution_count": null,
   "id": "8ba56f18-dbc1-4fad-9e3c-fb22ada841cc",
   "metadata": {},
   "outputs": [],
   "source": []
  },
  {
   "cell_type": "code",
   "execution_count": null,
   "id": "ef99e074-5cd8-4c1f-bd75-3d11f62e1caf",
   "metadata": {},
   "outputs": [],
   "source": [
    "dd = all_trefhtmn.sel(time=slice(\"1990\", \"1990\")).values > control_threshold[\"threshold\"].values\n",
    "\n",
    "summed = np.sum(dd, axis=0)\n",
    "diff = control_threshold[\"threshold\"].mean(dim=\"day\").copy()\n",
    "diff.values = summed# - all_hwf_ds.sel(time=1920).dt.days.values\n",
    "diff.plot()"
   ]
  },
  {
   "cell_type": "code",
   "execution_count": null,
   "id": "c72a38a5-6476-4ec0-a624-9a55ca5462d0",
   "metadata": {},
   "outputs": [],
   "source": [
    "# dd = all_trefhtmn.sel(time=slice(\"1990\", \"1990\")).values > control_threshold[\"threshold\"].values\n",
    "\n",
    "ds = all_trefhtmn.sel(time=slice(\"1990\", \"1990\"))\n",
    "\n",
    "dd = np.zeros(ds.shape)\n",
    "\n",
    "for index in range(ds.time.size):\n",
    "    dd[index] = ds.values[index] > control_threshold[\"threshold\"].values[ds.time.values[index].dayofyr-1]\n",
    "\n",
    "summed = np.sum(dd, axis=0)\n",
    "diff = control_threshold[\"threshold\"].mean(dim=\"day\").copy()\n",
    "diff.values = summed# - all_hwf_ds.sel(time=1920).dt.days.values\n",
    "diff.plot()"
   ]
  }
 ],
 "metadata": {
  "kernelspec": {
   "display_name": "Python 3 (ipykernel)",
   "language": "python",
   "name": "python3"
  },
  "language_info": {
   "codemirror_mode": {
    "name": "ipython",
    "version": 3
   },
   "file_extension": ".py",
   "mimetype": "text/x-python",
   "name": "python",
   "nbconvert_exporter": "python",
   "pygments_lexer": "ipython3",
   "version": "3.10.2"
  }
 },
 "nbformat": 4,
 "nbformat_minor": 5
}
